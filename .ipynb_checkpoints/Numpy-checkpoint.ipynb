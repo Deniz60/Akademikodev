{
 "cells": [
  {
   "cell_type": "markdown",
   "id": "03ecbc8c",
   "metadata": {},
   "source": [
    "## Numpy (Numeric Python)\n",
    "## matematik bilimindeki işlemleri yapabilen aşırı hızlı bir kütüphane (c ve fortran dilinde yazılması)"
   ]
  },
  {
   "cell_type": "code",
   "execution_count": 1,
   "id": "eaa9aae6",
   "metadata": {},
   "outputs": [
    {
     "name": "stdout",
     "output_type": "stream",
     "text": [
      "Requirement already satisfied: numpy in c:\\users\\deniz\\anaconda3\\envs\\env_1\\lib\\site-packages (1.21.6)\n",
      "Note: you may need to restart the kernel to use updated packages.\n"
     ]
    }
   ],
   "source": [
    "pip install numpy"
   ]
  },
  {
   "cell_type": "code",
   "execution_count": 2,
   "id": "6c27adf2",
   "metadata": {},
   "outputs": [],
   "source": [
    "import numpy as np"
   ]
  },
  {
   "cell_type": "code",
   "execution_count": 3,
   "id": "aab38cd8",
   "metadata": {},
   "outputs": [
    {
     "data": {
      "text/plain": [
       "array([1, 2, 3, 4, 5])"
      ]
     },
     "execution_count": 3,
     "metadata": {},
     "output_type": "execute_result"
    }
   ],
   "source": [
    "np_array = np.array([1,2,3,4,5])\n",
    "np_array"
   ]
  },
  {
   "cell_type": "code",
   "execution_count": 4,
   "id": "413fdcbf",
   "metadata": {},
   "outputs": [
    {
     "data": {
      "text/plain": [
       "[10, 20, 30, 40, 50]"
      ]
     },
     "execution_count": 4,
     "metadata": {},
     "output_type": "execute_result"
    }
   ],
   "source": [
    "python_array= [10,20,30,40,50]\n",
    "python_array"
   ]
  },
  {
   "cell_type": "code",
   "execution_count": 6,
   "id": "756fcf76",
   "metadata": {},
   "outputs": [
    {
     "data": {
      "text/plain": [
       "(numpy.ndarray, list)"
      ]
     },
     "execution_count": 6,
     "metadata": {},
     "output_type": "execute_result"
    }
   ],
   "source": [
    "type(np_array), type(python_array)"
   ]
  },
  {
   "cell_type": "code",
   "execution_count": 7,
   "id": "895b98b6",
   "metadata": {},
   "outputs": [],
   "source": [
    "p_array2= list(range(1_000_000))\n",
    "n_array2=np.array(p_array2)"
   ]
  },
  {
   "cell_type": "code",
   "execution_count": 10,
   "id": "483f52a2",
   "metadata": {},
   "outputs": [
    {
     "name": "stdout",
     "output_type": "stream",
     "text": [
      "63.1 ms ± 2.08 ms per loop (mean ± std. dev. of 7 runs, 10 loops each)\n"
     ]
    }
   ],
   "source": [
    "%%timeit\n",
    "[x+1 for x in p_array2]"
   ]
  },
  {
   "cell_type": "code",
   "execution_count": 12,
   "id": "d9506a8f",
   "metadata": {},
   "outputs": [
    {
     "name": "stdout",
     "output_type": "stream",
     "text": [
      "1.28 ms ± 28.3 µs per loop (mean ± std. dev. of 7 runs, 1000 loops each)\n"
     ]
    }
   ],
   "source": [
    "%%timeit\n",
    "n_array2 + 1"
   ]
  },
  {
   "cell_type": "code",
   "execution_count": 14,
   "id": "579d3596",
   "metadata": {},
   "outputs": [
    {
     "data": {
      "text/plain": [
       "(1000000,)"
      ]
     },
     "execution_count": 14,
     "metadata": {},
     "output_type": "execute_result"
    }
   ],
   "source": [
    "n_array2.shape"
   ]
  },
  {
   "cell_type": "code",
   "execution_count": 15,
   "id": "76540ef0",
   "metadata": {},
   "outputs": [
    {
     "data": {
      "text/plain": [
       "1"
      ]
     },
     "execution_count": 15,
     "metadata": {},
     "output_type": "execute_result"
    }
   ],
   "source": [
    "n_array2.ndim"
   ]
  },
  {
   "cell_type": "code",
   "execution_count": null,
   "id": "4ded5fa9",
   "metadata": {},
   "outputs": [],
   "source": []
  }
 ],
 "metadata": {
  "kernelspec": {
   "display_name": "Python 3 (ipykernel)",
   "language": "python",
   "name": "python3"
  },
  "language_info": {
   "codemirror_mode": {
    "name": "ipython",
    "version": 3
   },
   "file_extension": ".py",
   "mimetype": "text/x-python",
   "name": "python",
   "nbconvert_exporter": "python",
   "pygments_lexer": "ipython3",
   "version": "3.7.16"
  }
 },
 "nbformat": 4,
 "nbformat_minor": 5
}
