{
 "cells": [
  {
   "cell_type": "code",
   "execution_count": 1,
   "id": "d294e0e4",
   "metadata": {},
   "outputs": [],
   "source": [
    "import numpy as np"
   ]
  },
  {
   "cell_type": "code",
   "execution_count": 3,
   "id": "62fa1d27",
   "metadata": {},
   "outputs": [
    {
     "data": {
      "text/plain": [
       "array([[ 7,  2,  8, 11],\n",
       "       [44, 75, 36, 23],\n",
       "       [91, 65, 83, 17]])"
      ]
     },
     "execution_count": 3,
     "metadata": {},
     "output_type": "execute_result"
    }
   ],
   "source": [
    "matrix = np.array([[7,2,8,11],[44,75,36,23],[91,65,83,17]])\n",
    "matrix"
   ]
  },
  {
   "cell_type": "markdown",
   "id": "97d1bf4f",
   "metadata": {},
   "source": [
    "## zeros hepsini 0 yapar"
   ]
  },
  {
   "cell_type": "code",
   "execution_count": 7,
   "id": "10a3e599",
   "metadata": {},
   "outputs": [
    {
     "data": {
      "text/plain": [
       "array([[0., 0., 0.],\n",
       "       [0., 0., 0.],\n",
       "       [0., 0., 0.],\n",
       "       [0., 0., 0.]])"
      ]
     },
     "execution_count": 7,
     "metadata": {},
     "output_type": "execute_result"
    }
   ],
   "source": [
    "zeros=np.zeros([4,3])\n",
    "zeros"
   ]
  },
  {
   "cell_type": "markdown",
   "id": "79acaf77",
   "metadata": {},
   "source": [
    "## ones hepsini 1 yapar"
   ]
  },
  {
   "cell_type": "code",
   "execution_count": 8,
   "id": "4c184960",
   "metadata": {},
   "outputs": [
    {
     "data": {
      "text/plain": [
       "array([[1., 1., 1., 1.],\n",
       "       [1., 1., 1., 1.],\n",
       "       [1., 1., 1., 1.]])"
      ]
     },
     "execution_count": 8,
     "metadata": {},
     "output_type": "execute_result"
    }
   ],
   "source": [
    "ones = np.ones([3,4])\n",
    "ones"
   ]
  },
  {
   "cell_type": "markdown",
   "id": "a170cde9",
   "metadata": {},
   "source": [
    "## linspace 0 dan 100 e kadar olan kısmı eşit 5 parcaya böldü"
   ]
  },
  {
   "cell_type": "code",
   "execution_count": 9,
   "id": "05aae793",
   "metadata": {},
   "outputs": [
    {
     "data": {
      "text/plain": [
       "array([  0.,  25.,  50.,  75., 100.])"
      ]
     },
     "execution_count": 9,
     "metadata": {},
     "output_type": "execute_result"
    }
   ],
   "source": [
    "linspace_arr = np.linspace(0, 100, 5)\n",
    "linspace_arr"
   ]
  },
  {
   "cell_type": "markdown",
   "id": "e91bf81d",
   "metadata": {},
   "source": [
    "## eye ana diyagonal kısmını 1 yapar digerlerini 0"
   ]
  },
  {
   "cell_type": "code",
   "execution_count": 12,
   "id": "a994e1a1",
   "metadata": {},
   "outputs": [
    {
     "data": {
      "text/plain": [
       "array([[1., 0., 0., 0., 0.],\n",
       "       [0., 1., 0., 0., 0.],\n",
       "       [0., 0., 1., 0., 0.],\n",
       "       [0., 0., 0., 1., 0.],\n",
       "       [0., 0., 0., 0., 1.]])"
      ]
     },
     "execution_count": 12,
     "metadata": {},
     "output_type": "execute_result"
    }
   ],
   "source": [
    "eye=np.eye(5)\n",
    "eye"
   ]
  },
  {
   "cell_type": "markdown",
   "id": "0aad028c",
   "metadata": {},
   "source": [
    "## add ile toplama işlemi"
   ]
  },
  {
   "cell_type": "code",
   "execution_count": 19,
   "id": "11cc0c4b",
   "metadata": {},
   "outputs": [
    {
     "data": {
      "text/plain": [
       "array([[ 8,  7],\n",
       "       [11, 13]])"
      ]
     },
     "execution_count": 19,
     "metadata": {},
     "output_type": "execute_result"
    }
   ],
   "source": [
    "matrix1 = np.array([[1,2],[3,4]])\n",
    "matrix2 = np.array([[7,5],[8,9]])\n",
    "toplam=np.add(matrix1,matrix2)\n",
    "toplam"
   ]
  },
  {
   "cell_type": "markdown",
   "id": "d998e84b",
   "metadata": {},
   "source": [
    "## subtract ile cıkarma işlemi"
   ]
  },
  {
   "cell_type": "code",
   "execution_count": 20,
   "id": "0e0e4aa8",
   "metadata": {},
   "outputs": [
    {
     "data": {
      "text/plain": [
       "array([[-6, -3],\n",
       "       [-5, -5]])"
      ]
     },
     "execution_count": 20,
     "metadata": {},
     "output_type": "execute_result"
    }
   ],
   "source": [
    "cıkarma =np.subtract(matrix1,matrix2)\n",
    "cıkarma"
   ]
  },
  {
   "cell_type": "markdown",
   "id": "3f5801c4",
   "metadata": {},
   "source": [
    "## var ile varyans bulma"
   ]
  },
  {
   "cell_type": "code",
   "execution_count": 21,
   "id": "0bf402ca",
   "metadata": {},
   "outputs": [
    {
     "data": {
      "text/plain": [
       "1.25"
      ]
     },
     "execution_count": 21,
     "metadata": {},
     "output_type": "execute_result"
    }
   ],
   "source": [
    "varyans =np.var(matrix1)\n",
    "varyans"
   ]
  },
  {
   "cell_type": "markdown",
   "id": "d36ebe9b",
   "metadata": {},
   "source": [
    "### std ile standart sapma bulma"
   ]
  },
  {
   "cell_type": "code",
   "execution_count": 22,
   "id": "d7e0d792",
   "metadata": {},
   "outputs": [
    {
     "data": {
      "text/plain": [
       "1.118033988749895"
      ]
     },
     "execution_count": 22,
     "metadata": {},
     "output_type": "execute_result"
    }
   ],
   "source": [
    "standart_sapma=np.std(matrix1)\n",
    "standart_sapma"
   ]
  },
  {
   "cell_type": "code",
   "execution_count": 25,
   "id": "8b272d4a",
   "metadata": {},
   "outputs": [
    {
     "data": {
      "text/plain": [
       "array([[ 3,  4],\n",
       "       [ 9, 10],\n",
       "       [11, 12]])"
      ]
     },
     "execution_count": 25,
     "metadata": {},
     "output_type": "execute_result"
    }
   ],
   "source": [
    "matrix3 = np.array([[3,4],[9,10],[11,12]])\n",
    "matrix3"
   ]
  },
  {
   "cell_type": "markdown",
   "id": "28711c3e",
   "metadata": {},
   "source": [
    "## reshape ile tek sütün yapma\n"
   ]
  },
  {
   "cell_type": "code",
   "execution_count": 26,
   "id": "d89a7639",
   "metadata": {},
   "outputs": [
    {
     "data": {
      "text/plain": [
       "array([[ 3],\n",
       "       [ 4],\n",
       "       [ 9],\n",
       "       [10],\n",
       "       [11],\n",
       "       [12]])"
      ]
     },
     "execution_count": 26,
     "metadata": {},
     "output_type": "execute_result"
    }
   ],
   "source": [
    "matrix3.reshape(6,1)"
   ]
  },
  {
   "cell_type": "markdown",
   "id": "6e3b7288",
   "metadata": {},
   "source": [
    "## reshape ile tek satır yapma"
   ]
  },
  {
   "cell_type": "code",
   "execution_count": 27,
   "id": "bcd4e5c2",
   "metadata": {},
   "outputs": [
    {
     "data": {
      "text/plain": [
       "array([[ 3,  4,  9, 10, 11, 12]])"
      ]
     },
     "execution_count": 27,
     "metadata": {},
     "output_type": "execute_result"
    }
   ],
   "source": [
    "matrix3.reshape(1,-1)"
   ]
  },
  {
   "cell_type": "markdown",
   "id": "b7f99799",
   "metadata": {},
   "source": [
    "## T  ile tranpose alma"
   ]
  },
  {
   "cell_type": "code",
   "execution_count": 42,
   "id": "56eaa5db",
   "metadata": {},
   "outputs": [
    {
     "data": {
      "text/plain": [
       "array([[ 3],\n",
       "       [ 4],\n",
       "       [ 9],\n",
       "       [10],\n",
       "       [11],\n",
       "       [12]])"
      ]
     },
     "execution_count": 42,
     "metadata": {},
     "output_type": "execute_result"
    }
   ],
   "source": [
    "matrix3.reshape(1,-1).T"
   ]
  },
  {
   "cell_type": "code",
   "execution_count": 47,
   "id": "6c97da78",
   "metadata": {},
   "outputs": [
    {
     "data": {
      "text/plain": [
       "array([[ 7,  2,  8, 11],\n",
       "       [44, 75, 36, 23],\n",
       "       [91, 65, 83, 17],\n",
       "       [ 1,  2,  7,  8]])"
      ]
     },
     "execution_count": 47,
     "metadata": {},
     "output_type": "execute_result"
    }
   ],
   "source": [
    "matrix = np.array([[7,2,8,11],[44,75,36,23],[91,65,83,17],[1,2,7,8]])\n",
    "matrix"
   ]
  },
  {
   "cell_type": "markdown",
   "id": "94af09ad",
   "metadata": {},
   "source": [
    "## diagonal ile köşegen alma"
   ]
  },
  {
   "cell_type": "code",
   "execution_count": 48,
   "id": "5ea85291",
   "metadata": {},
   "outputs": [
    {
     "data": {
      "text/plain": [
       "array([ 7, 75, 83,  8])"
      ]
     },
     "execution_count": 48,
     "metadata": {},
     "output_type": "execute_result"
    }
   ],
   "source": [
    "matrix.diagonal()"
   ]
  },
  {
   "cell_type": "markdown",
   "id": "6fbbb4e3",
   "metadata": {},
   "source": [
    "## determinant hesapla ama için dogru olup olmadıgını printle gösterdim"
   ]
  },
  {
   "cell_type": "code",
   "execution_count": 58,
   "id": "c119560e",
   "metadata": {},
   "outputs": [
    {
     "data": {
      "text/plain": [
       "array([[-6, -3],\n",
       "       [-5, -5]])"
      ]
     },
     "execution_count": 58,
     "metadata": {},
     "output_type": "execute_result"
    }
   ],
   "source": [
    "cıkarma"
   ]
  },
  {
   "cell_type": "code",
   "execution_count": 59,
   "id": "78a889d4",
   "metadata": {},
   "outputs": [
    {
     "data": {
      "text/plain": [
       "15.0"
      ]
     },
     "execution_count": 59,
     "metadata": {},
     "output_type": "execute_result"
    }
   ],
   "source": [
    "np.linalg.det(cıkarma)"
   ]
  },
  {
   "cell_type": "code",
   "execution_count": 60,
   "id": "67ae0dd4",
   "metadata": {},
   "outputs": [
    {
     "name": "stdout",
     "output_type": "stream",
     "text": [
      "30 - 15 = 15 \n"
     ]
    }
   ],
   "source": [
    "print(f\"{-6*-5} - {-5*-3} = {(-6*-5)-(-5*-3)} \")"
   ]
  },
  {
   "cell_type": "code",
   "execution_count": null,
   "id": "56987e4b",
   "metadata": {},
   "outputs": [],
   "source": []
  }
 ],
 "metadata": {
  "kernelspec": {
   "display_name": "Python 3 (ipykernel)",
   "language": "python",
   "name": "python3"
  },
  "language_info": {
   "codemirror_mode": {
    "name": "ipython",
    "version": 3
   },
   "file_extension": ".py",
   "mimetype": "text/x-python",
   "name": "python",
   "nbconvert_exporter": "python",
   "pygments_lexer": "ipython3",
   "version": "3.7.16"
  }
 },
 "nbformat": 4,
 "nbformat_minor": 5
}
