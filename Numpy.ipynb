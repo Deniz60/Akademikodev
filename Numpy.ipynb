{
 "cells": [
  {
   "cell_type": "markdown",
   "id": "03ecbc8c",
   "metadata": {},
   "source": [
    "## Numpy (Numeric Python)\n",
    "## matematik bilimindeki işlemleri yapabilen aşırı hızlı bir kütüphane (c ve fortran dilinde yazılması)"
   ]
  },
  {
   "cell_type": "code",
   "execution_count": 1,
   "id": "eaa9aae6",
   "metadata": {},
   "outputs": [
    {
     "name": "stdout",
     "output_type": "stream",
     "text": [
      "Requirement already satisfied: numpy in c:\\users\\deniz\\anaconda3\\envs\\env_1\\lib\\site-packages (1.21.6)\n",
      "Note: you may need to restart the kernel to use updated packages.\n"
     ]
    }
   ],
   "source": [
    "pip install numpy"
   ]
  },
  {
   "cell_type": "code",
   "execution_count": 4,
   "id": "6c27adf2",
   "metadata": {},
   "outputs": [],
   "source": [
    "import numpy as np"
   ]
  },
  {
   "cell_type": "code",
   "execution_count": 3,
   "id": "aab38cd8",
   "metadata": {},
   "outputs": [
    {
     "data": {
      "text/plain": [
       "array([1, 2, 3, 4, 5])"
      ]
     },
     "execution_count": 3,
     "metadata": {},
     "output_type": "execute_result"
    }
   ],
   "source": [
    "np_array = np.array([1,2,3,4,5])\n",
    "np_array"
   ]
  },
  {
   "cell_type": "code",
   "execution_count": 4,
   "id": "413fdcbf",
   "metadata": {},
   "outputs": [
    {
     "data": {
      "text/plain": [
       "[10, 20, 30, 40, 50]"
      ]
     },
     "execution_count": 4,
     "metadata": {},
     "output_type": "execute_result"
    }
   ],
   "source": [
    "python_array= [10,20,30,40,50]\n",
    "python_array"
   ]
  },
  {
   "cell_type": "code",
   "execution_count": 6,
   "id": "756fcf76",
   "metadata": {},
   "outputs": [
    {
     "data": {
      "text/plain": [
       "(numpy.ndarray, list)"
      ]
     },
     "execution_count": 6,
     "metadata": {},
     "output_type": "execute_result"
    }
   ],
   "source": [
    "type(np_array), type(python_array)"
   ]
  },
  {
   "cell_type": "code",
   "execution_count": 7,
   "id": "895b98b6",
   "metadata": {},
   "outputs": [],
   "source": [
    "p_array2= list(range(1_000_000))\n",
    "n_array2=np.array(p_array2)"
   ]
  },
  {
   "cell_type": "code",
   "execution_count": 10,
   "id": "483f52a2",
   "metadata": {},
   "outputs": [
    {
     "name": "stdout",
     "output_type": "stream",
     "text": [
      "63.1 ms ± 2.08 ms per loop (mean ± std. dev. of 7 runs, 10 loops each)\n"
     ]
    }
   ],
   "source": [
    "%%timeit\n",
    "[x+1 for x in p_array2]"
   ]
  },
  {
   "cell_type": "code",
   "execution_count": 12,
   "id": "d9506a8f",
   "metadata": {},
   "outputs": [
    {
     "name": "stdout",
     "output_type": "stream",
     "text": [
      "1.28 ms ± 28.3 µs per loop (mean ± std. dev. of 7 runs, 1000 loops each)\n"
     ]
    }
   ],
   "source": [
    "%%timeit\n",
    "n_array2 + 1"
   ]
  },
  {
   "cell_type": "code",
   "execution_count": 14,
   "id": "579d3596",
   "metadata": {},
   "outputs": [
    {
     "data": {
      "text/plain": [
       "(1000000,)"
      ]
     },
     "execution_count": 14,
     "metadata": {},
     "output_type": "execute_result"
    }
   ],
   "source": [
    "n_array2.shape"
   ]
  },
  {
   "cell_type": "code",
   "execution_count": 15,
   "id": "76540ef0",
   "metadata": {},
   "outputs": [
    {
     "data": {
      "text/plain": [
       "1"
      ]
     },
     "execution_count": 15,
     "metadata": {},
     "output_type": "execute_result"
    }
   ],
   "source": [
    "n_array2.ndim"
   ]
  },
  {
   "cell_type": "markdown",
   "id": "352bff7f",
   "metadata": {},
   "source": [
    "### vectorler, matrisler, tensorlar"
   ]
  },
  {
   "cell_type": "code",
   "execution_count": 2,
   "id": "2cead7fb",
   "metadata": {},
   "outputs": [
    {
     "data": {
      "text/plain": [
       "(0, ())"
      ]
     },
     "execution_count": 2,
     "metadata": {},
     "output_type": "execute_result"
    }
   ],
   "source": [
    "scalar_arr = np.array(1)\n",
    "# ndim kaç boyutlu\n",
    "#shape şekil için\n",
    "scalar_arr.ndim, scalar_arr.shape"
   ]
  },
  {
   "cell_type": "code",
   "execution_count": 3,
   "id": "6ca5e721",
   "metadata": {},
   "outputs": [
    {
     "data": {
      "text/plain": [
       "(1, (3,))"
      ]
     },
     "execution_count": 3,
     "metadata": {},
     "output_type": "execute_result"
    }
   ],
   "source": [
    "vector_arr=np.array([10,20,30])\n",
    "vector_arr.ndim , vector_arr.shape"
   ]
  },
  {
   "cell_type": "code",
   "execution_count": 4,
   "id": "25c8c48f",
   "metadata": {},
   "outputs": [
    {
     "data": {
      "text/plain": [
       "(2, (2, 3))"
      ]
     },
     "execution_count": 4,
     "metadata": {},
     "output_type": "execute_result"
    }
   ],
   "source": [
    "matrix_arr=np.array(\n",
    "    [\n",
    "        [10,20,30],\n",
    "        [40,50,60]\n",
    "    ]\n",
    "\n",
    ")\n",
    "matrix_arr.ndim, matrix_arr.shape"
   ]
  },
  {
   "cell_type": "code",
   "execution_count": 5,
   "id": "4f6cf8cd",
   "metadata": {},
   "outputs": [
    {
     "data": {
      "text/plain": [
       "(2, (2, 3))"
      ]
     },
     "execution_count": 5,
     "metadata": {},
     "output_type": "execute_result"
    }
   ],
   "source": [
    "matrix_arr2=np.array(\n",
    "    [\n",
    "        [70,80,90],\n",
    "        [100,110,120]\n",
    "    ]\n",
    ")\n",
    "matrix_arr2.ndim, matrix_arr2.shape"
   ]
  },
  {
   "cell_type": "code",
   "execution_count": 6,
   "id": "987b0cc4",
   "metadata": {},
   "outputs": [
    {
     "data": {
      "text/plain": [
       "array([[ 80, 100, 120],\n",
       "       [140, 160, 180]])"
      ]
     },
     "execution_count": 6,
     "metadata": {},
     "output_type": "execute_result"
    }
   ],
   "source": [
    "result= matrix_arr+ matrix_arr2\n",
    "result"
   ]
  },
  {
   "cell_type": "code",
   "execution_count": 7,
   "id": "f99a32b7",
   "metadata": {},
   "outputs": [
    {
     "data": {
      "text/plain": [
       "array([[ 700, 1600, 2700],\n",
       "       [4000, 5500, 7200]])"
      ]
     },
     "execution_count": 7,
     "metadata": {},
     "output_type": "execute_result"
    }
   ],
   "source": [
    "result2=matrix_arr*matrix_arr2\n",
    "result2"
   ]
  },
  {
   "cell_type": "code",
   "execution_count": 8,
   "id": "d1e4ccdf",
   "metadata": {},
   "outputs": [
    {
     "data": {
      "text/plain": [
       "(3, 2)"
      ]
     },
     "execution_count": 8,
     "metadata": {},
     "output_type": "execute_result"
    }
   ],
   "source": [
    "matrix_arr3=np.array(\n",
    "    [\n",
    "        [100,120],\n",
    "        [140,160],\n",
    "        [180,200]\n",
    "    ]\n",
    ")\n",
    "matrix_arr3.shape"
   ]
  },
  {
   "cell_type": "code",
   "execution_count": 9,
   "id": "5a0ab44b",
   "metadata": {},
   "outputs": [
    {
     "ename": "ValueError",
     "evalue": "operands could not be broadcast together with shapes (2,3) (3,2) ",
     "output_type": "error",
     "traceback": [
      "\u001b[1;31m---------------------------------------------------------------------------\u001b[0m",
      "\u001b[1;31mValueError\u001b[0m                                Traceback (most recent call last)",
      "\u001b[1;32m~\\AppData\\Local\\Temp\\ipykernel_14460\\2481544617.py\u001b[0m in \u001b[0;36m<module>\u001b[1;34m\u001b[0m\n\u001b[1;32m----> 1\u001b[1;33m \u001b[0mresult3\u001b[0m\u001b[1;33m=\u001b[0m \u001b[0mmatrix_arr2\u001b[0m\u001b[1;33m+\u001b[0m\u001b[0mmatrix_arr3\u001b[0m\u001b[1;33m\u001b[0m\u001b[1;33m\u001b[0m\u001b[0m\n\u001b[0m",
      "\u001b[1;31mValueError\u001b[0m: operands could not be broadcast together with shapes (2,3) (3,2) "
     ]
    }
   ],
   "source": [
    "result3= matrix_arr2+matrix_arr3"
   ]
  },
  {
   "cell_type": "code",
   "execution_count": 10,
   "id": "acbd593d",
   "metadata": {},
   "outputs": [
    {
     "data": {
      "text/plain": [
       "array([[170, 200, 230],\n",
       "       [260, 290, 320]])"
      ]
     },
     "execution_count": 10,
     "metadata": {},
     "output_type": "execute_result"
    }
   ],
   "source": [
    "result3=matrix_arr2+matrix_arr3.reshape(2,3)\n",
    "result3"
   ]
  },
  {
   "cell_type": "code",
   "execution_count": 11,
   "id": "08a2ae71",
   "metadata": {},
   "outputs": [
    {
     "data": {
      "text/plain": [
       "(3, (3, 2, 4))"
      ]
     },
     "execution_count": 11,
     "metadata": {},
     "output_type": "execute_result"
    }
   ],
   "source": [
    "# 3d + arraylar-> tensor\n",
    "tensor_arr =np.array(\n",
    "    [\n",
    "        [[1,2,3,4],[5,6,7,8]],\n",
    "        [[9,10,11,12],[13,14,15,16]],\n",
    "        [[17,18,19,20],[21,22,23,24]]\n",
    "    ]\n",
    ")\n",
    "tensor_arr.ndim, tensor_arr.shape\n",
    "# shape= asatır,sütun, satırdaki eleman sayısı"
   ]
  },
  {
   "cell_type": "code",
   "execution_count": 1,
   "id": "9574a89e",
   "metadata": {},
   "outputs": [
    {
     "name": "stdout",
     "output_type": "stream",
     "text": [
      "Requirement already satisfied: Pillow in c:\\users\\deniz\\anaconda3\\envs\\env_1\\lib\\site-packages (9.5.0)\n"
     ]
    }
   ],
   "source": [
    "!pip install Pillow"
   ]
  },
  {
   "cell_type": "code",
   "execution_count": 8,
   "id": "ce40e1bf",
   "metadata": {},
   "outputs": [],
   "source": [
    "from PIL import Image\n",
    "\n",
    "cat_img = Image.open(\"kedi.jpg\")"
   ]
  },
  {
   "cell_type": "code",
   "execution_count": 10,
   "id": "6c7a6829",
   "metadata": {},
   "outputs": [
    {
     "data": {
      "text/plain": [
       "(3, (1500, 1000, 3))"
      ]
     },
     "execution_count": 10,
     "metadata": {},
     "output_type": "execute_result"
    }
   ],
   "source": [
    "cat_img_arr = np.array(cat_img)\n",
    "cat_img_arr.ndim, cat_img_arr.shape"
   ]
  },
  {
   "cell_type": "code",
   "execution_count": 11,
   "id": "96b5c62e",
   "metadata": {},
   "outputs": [
    {
     "data": {
      "text/plain": [
       "array([[13,  7,  9],\n",
       "       [13,  7,  9],\n",
       "       [13,  7,  9],\n",
       "       ...,\n",
       "       [76, 56, 47],\n",
       "       [72, 52, 43],\n",
       "       [71, 51, 42]], dtype=uint8)"
      ]
     },
     "execution_count": 11,
     "metadata": {},
     "output_type": "execute_result"
    }
   ],
   "source": [
    "cat_img_arr[1250]"
   ]
  },
  {
   "cell_type": "code",
   "execution_count": 12,
   "id": "21d877a6",
   "metadata": {},
   "outputs": [],
   "source": [
    "image=np.random.randint(0,256,(100,100,3))\n"
   ]
  },
  {
   "cell_type": "code",
   "execution_count": 13,
   "id": "0bf82a75",
   "metadata": {},
   "outputs": [
    {
     "data": {
      "text/plain": [
       "<matplotlib.image.AxesImage at 0x20177a86b48>"
      ]
     },
     "execution_count": 13,
     "metadata": {},
     "output_type": "execute_result"
    },
    {
     "data": {
      "image/png": "[encoded data removed]",
      "text/plain": [
       "<Figure size 640x480 with 1 Axes>"
      ]
     },
     "metadata": {},
     "output_type": "display_data"
    }
   ],
   "source": [
    "import matplotlib.pyplot as plt\n",
    "\n",
    "plt.imshow(image)"
   ]
  },
  {
   "cell_type": "code",
   "execution_count": null,
   "id": "f359fb09",
   "metadata": {},
   "outputs": [],
   "source": []
  }
 ],
 "metadata": {
  "kernelspec": {
   "display_name": "Python 3 (ipykernel)",
   "language": "python",
   "name": "python3"
  },
  "language_info": {
   "codemirror_mode": {
    "name": "ipython",
    "version": 3
   },
   "file_extension": ".py",
   "mimetype": "text/x-python",
   "name": "python",
   "nbconvert_exporter": "python",
   "pygments_lexer": "ipython3",
   "version": "3.7.16"
  }
 },
 "nbformat": 4,
 "nbformat_minor": 5
}
